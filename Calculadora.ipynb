{
  "nbformat": 4,
  "nbformat_minor": 0,
  "metadata": {
    "colab": {
      "provenance": [],
      "authorship_tag": "ABX9TyOL/9Ot0WEANGHaoKVCu06W",
      "include_colab_link": true
    },
    "kernelspec": {
      "name": "python3",
      "display_name": "Python 3"
    },
    "language_info": {
      "name": "python"
    }
  },
  "cells": [
    {
      "cell_type": "markdown",
      "metadata": {
        "id": "view-in-github",
        "colab_type": "text"
      },
      "source": [
        "<a href=\"https://colab.research.google.com/github/GiPalotta/Calculadora/blob/main/Calculadora.ipynb\" target=\"_parent\"><img src=\"https://colab.research.google.com/assets/colab-badge.svg\" alt=\"Open In Colab\"/></a>"
      ]
    },
    {
      "cell_type": "code",
      "execution_count": 11,
      "metadata": {
        "colab": {
          "base_uri": "https://localhost:8080/"
        },
        "id": "Elt8N9Bv5BZc",
        "outputId": "833a8859-f5be-49ea-8d6f-aad54567f1b0"
      },
      "outputs": [
        {
          "output_type": "stream",
          "name": "stdout",
          "text": [
            "Qual operação você quer fazer? sum = soma, sub = subtração, multi = multiplicação, div = divisão ---> 4\n",
            "Erro! Digite novamente de acordo com as instruções abaixo\n",
            "Qual operação você quer fazer? sum = soma, sub = subtração, multi = multiplicação, div = divisão ---> 2\n",
            "Erro! Digite novamente de acordo com as instruções abaixo\n",
            "Qual operação você quer fazer? sum = soma, sub = subtração, multi = multiplicação, div = divisão ---> div\n",
            "Digite o valor de x: 4\n",
            "Digite o valor de y: 3\n",
            "A divisão destes 2 números é igual a 1.3333333333333333\n"
          ]
        }
      ],
      "source": [
        "while True:\n",
        "  pergunta = input('Qual operação você quer fazer? sum = soma, sub = subtração, multi = multiplicação, div = divisão ---> ')\n",
        "\n",
        "  if pergunta == 'sum':\n",
        "      x = int(input('Digite o valor de x: '))\n",
        "      y = int(input('Digite o valor de y: '))\n",
        "      soma = x + y\n",
        "      print('A soma destes 2 números é igual a {}'.format(soma))\n",
        "      break\n",
        "  elif pergunta == 'sub':\n",
        "      x = int(input('Digite o valor de x: '))\n",
        "      y = int(input('Digite o valor de y: '))\n",
        "      subtracao = x - y\n",
        "      print('A subtração destes 2 números é igual a {}'.format(subtracao))\n",
        "      break\n",
        "  elif pergunta == 'multi':\n",
        "      x = int(input('Digite o valor de x: '))\n",
        "      y = int(input('Digite o valor de y: '))\n",
        "      multiplicacao = x * y\n",
        "      print('A multiplicação destes 2 números é igual a {}'.format(multiplicacao))\n",
        "      break\n",
        "  elif pergunta == 'div':\n",
        "      x = int(input('Digite o valor de x: '))\n",
        "      y = int(input('Digite o valor de y: '))\n",
        "      divisao = x / y\n",
        "      print('A divisão destes 2 números é igual a {}'.format(divisao))\n",
        "      break\n",
        "  else:\n",
        "      print('Erro! Digite novamente de acordo com as instruções abaixo')\n",
        "\n",
        "\n"
      ]
    }
  ]
}